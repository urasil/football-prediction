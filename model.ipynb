{
 "cells": [
  {
   "cell_type": "code",
   "execution_count": 1,
   "metadata": {},
   "outputs": [],
   "source": [
    "import pandas as pd\n",
    "import numpy as np"
   ]
  },
  {
   "cell_type": "code",
   "execution_count": 2,
   "metadata": {},
   "outputs": [],
   "source": [
    "data_dir = \"football-prediction/epl-training.csv\"\n",
    "df = pd.read_csv(data_dir)"
   ]
  },
  {
   "cell_type": "code",
   "execution_count": 6,
   "metadata": {},
   "outputs": [],
   "source": [
    "df.columns = [\n",
    "    'Date',               \n",
    "    'Home Team',          \n",
    "    'Away Team',\n",
    "    'Full Time Home Goals',  \n",
    "    'Full Time Away Goals',  \n",
    "    'Full Time Result',       \n",
    "    'Half Time Home Goals',  \n",
    "    'Half Time Away Goals',  \n",
    "    'Half Time Result',      \n",
    "    'Referee',\n",
    "    'Home Shots',             \n",
    "    'Away Shots',             \n",
    "    'Home Shots on Target',   \n",
    "    'Away Shots on Target',   \n",
    "    'Home Corners',          \n",
    "    'Away Corners',           \n",
    "    'Home Fouls',             \n",
    "    'Away Fouls',             \n",
    "    'Home Yellow Cards',     \n",
    "    'Away Yellow Cards',     \n",
    "    'Home Red Cards',     \n",
    "    'Away Red Cards'      \n",
    "]"
   ]
  },
  {
   "cell_type": "code",
   "execution_count": null,
   "metadata": {},
   "outputs": [],
   "source": []
  }
 ],
 "metadata": {
  "kernelspec": {
   "display_name": "venv",
   "language": "python",
   "name": "python3"
  },
  "language_info": {
   "codemirror_mode": {
    "name": "ipython",
    "version": 3
   },
   "file_extension": ".py",
   "mimetype": "text/x-python",
   "name": "python",
   "nbconvert_exporter": "python",
   "pygments_lexer": "ipython3",
   "version": "3.10.7"
  }
 },
 "nbformat": 4,
 "nbformat_minor": 2
}
