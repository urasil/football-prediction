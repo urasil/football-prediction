{
 "cells": [
  {
   "cell_type": "code",
   "execution_count": 19,
   "metadata": {},
   "outputs": [
    {
     "data": {
      "text/plain": [
       "True"
      ]
     },
     "execution_count": 19,
     "metadata": {},
     "output_type": "execute_result"
    }
   ],
   "source": [
    "import pandas as pd\n",
    "import numpy as np\n",
    "import requests\n",
    "import dotenv\n",
    "import os\n",
    "import json\n",
    "dotenv.load_dotenv()"
   ]
  },
  {
   "cell_type": "code",
   "execution_count": 2,
   "metadata": {},
   "outputs": [],
   "source": [
    "data_dir = \"football-prediction/epl-training.csv\"\n",
    "df = pd.read_csv(data_dir)"
   ]
  },
  {
   "cell_type": "code",
   "execution_count": 3,
   "metadata": {},
   "outputs": [],
   "source": [
    "df.columns = [\n",
    "    'Date',               \n",
    "    'Home Team',          \n",
    "    'Away Team',\n",
    "    'Full Time Home Goals',  \n",
    "    'Full Time Away Goals',  \n",
    "    'Full Time Result',       \n",
    "    'Half Time Home Goals',  \n",
    "    'Half Time Away Goals',  \n",
    "    'Half Time Result',      \n",
    "    'Referee',\n",
    "    'Home Shots',             \n",
    "    'Away Shots',             \n",
    "    'Home Shots on Target',   \n",
    "    'Away Shots on Target',   \n",
    "    'Home Corners',          \n",
    "    'Away Corners',           \n",
    "    'Home Fouls',             \n",
    "    'Away Fouls',             \n",
    "    'Home Yellow Cards',     \n",
    "    'Away Yellow Cards',     \n",
    "    'Home Red Cards',     \n",
    "    'Away Red Cards'      \n",
    "]"
   ]
  },
  {
   "cell_type": "code",
   "execution_count": 20,
   "metadata": {},
   "outputs": [],
   "source": [
    "BASE_URL = 'https://api.football-data.org/v4'\n",
    "HEADERS = {\"X-Auth-Token\": os.getenv(\"FOOTBALL_DATA\")}"
   ]
  },
  {
   "cell_type": "code",
   "execution_count": 32,
   "metadata": {},
   "outputs": [],
   "source": [
    "# no need to run again - for getting season information\n",
    "\n",
    "url = f\"{BASE_URL}/competitions/PL\"\n",
    "response = requests.get(url, headers=HEADERS)\n",
    "data = response.json()  \n",
    "with open(f\"additional_data/pl2.json\", \"w\") as json_file:\n",
    "    json.dump(data, json_file, indent=4)"
   ]
  },
  {
   "cell_type": "code",
   "execution_count": 48,
   "metadata": {},
   "outputs": [],
   "source": [
    "# using season information to get match data for that season\n",
    "with open('additional_data/pl.json', 'r') as file:\n",
    "    data = json.load(file)\n",
    "\n",
    "start_dates = []\n",
    "end_dates = []\n",
    "\n",
    "for season in data['seasons']:\n",
    "    start_dates.append(season['startDate'])\n",
    "    end_dates.append(season['endDate'])"
   ]
  },
  {
   "cell_type": "code",
   "execution_count": 49,
   "metadata": {},
   "outputs": [],
   "source": [
    "data_end_idx = -1\n",
    "for i in range(len(start_dates)):\n",
    "    if start_dates[i] == \"2000-08-19\":\n",
    "        data_end_idx = i\n",
    "\n",
    "start_dates = start_dates[:data_end_idx+1] \n",
    "end_dates = end_dates[:data_end_idx+1] "
   ]
  },
  {
   "cell_type": "code",
   "execution_count": 50,
   "metadata": {},
   "outputs": [],
   "source": [
    "def get_matches(start_date, end_date):\n",
    "    url = f\"{BASE_URL}/competitions/PL/matches\"\n",
    "    params = {\"dateFrom\": start_date, \"dateTo\": end_date}\n",
    "    response = requests.get(url, headers=HEADERS, params=params)\n",
    "    \n",
    "    if response.status_code == 200:\n",
    "        matches = response.json()[\"matches\"]\n",
    "        output_dir = \"additional_data\"\n",
    "        output_file = os.path.join(output_dir, f\"{start_date}_prem_league_matches.json\")\n",
    "        \n",
    "        with open(output_file, 'w') as file:\n",
    "            json.dump(matches, file, indent=4)\n",
    "        print(f\"Match data saved to {output_file}\")\n",
    "        return matches\n",
    "    else:\n",
    "        print(f\"Failed to fetch matches. Status code: {response.status_code}, {response.text}\")\n",
    "        return None"
   ]
  },
  {
   "cell_type": "code",
   "execution_count": 44,
   "metadata": {},
   "outputs": [],
   "source": [
    "response =requests.get(f\"{BASE_URL}/competitions/PL/matches\", headers=HEADERS)"
   ]
  },
  {
   "cell_type": "code",
   "execution_count": 57,
   "metadata": {},
   "outputs": [
    {
     "name": "stdout",
     "output_type": "stream",
     "text": [
      "Failed to fetch matches. Status code: 403, {\"message\":\"The resource you are looking for is restricted and apparently not within your permissions. Please check your subscription.\",\"errorCode\":403}\n",
      "Failed to fetch matches. Status code: 403, {\"message\":\"The resource you are looking for is restricted and apparently not within your permissions. Please check your subscription.\",\"errorCode\":403}\n",
      "Failed to fetch matches. Status code: 403, {\"message\":\"The resource you are looking for is restricted and apparently not within your permissions. Please check your subscription.\",\"errorCode\":403}\n",
      "Failed to fetch matches. Status code: 403, {\"message\":\"The resource you are looking for is restricted and apparently not within your permissions. Please check your subscription.\",\"errorCode\":403}\n",
      "Failed to fetch matches. Status code: 403, {\"message\":\"The resource you are looking for is restricted and apparently not within your permissions. Please check your subscription.\",\"errorCode\":403}\n",
      "Failed to fetch matches. Status code: 403, {\"message\":\"The resource you are looking for is restricted and apparently not within your permissions. Please check your subscription.\",\"errorCode\":403}\n",
      "Failed to fetch matches. Status code: 403, {\"message\":\"The resource you are looking for is restricted and apparently not within your permissions. Please check your subscription.\",\"errorCode\":403}\n",
      "Failed to fetch matches. Status code: 403, {\"message\":\"The resource you are looking for is restricted and apparently not within your permissions. Please check your subscription.\",\"errorCode\":403}\n",
      "Failed to fetch matches. Status code: 403, {\"message\":\"The resource you are looking for is restricted and apparently not within your permissions. Please check your subscription.\",\"errorCode\":403}\n",
      "Failed to fetch matches. Status code: 403, {\"message\":\"The resource you are looking for is restricted and apparently not within your permissions. Please check your subscription.\",\"errorCode\":403}\n",
      "Failed to fetch matches. Status code: 403, {\"message\":\"The resource you are looking for is restricted and apparently not within your permissions. Please check your subscription.\",\"errorCode\":403}\n",
      "Failed to fetch matches. Status code: 403, {\"message\":\"The resource you are looking for is restricted and apparently not within your permissions. Please check your subscription.\",\"errorCode\":403}\n",
      "Failed to fetch matches. Status code: 403, {\"message\":\"The resource you are looking for is restricted and apparently not within your permissions. Please check your subscription.\",\"errorCode\":403}\n",
      "Failed to fetch matches. Status code: 403, {\"message\":\"The resource you are looking for is restricted and apparently not within your permissions. Please check your subscription.\",\"errorCode\":403}\n",
      "Failed to fetch matches. Status code: 403, {\"message\":\"The resource you are looking for is restricted and apparently not within your permissions. Please check your subscription.\",\"errorCode\":403}\n",
      "Failed to fetch matches. Status code: 403, {\"message\":\"The resource you are looking for is restricted and apparently not within your permissions. Please check your subscription.\",\"errorCode\":403}\n",
      "Failed to fetch matches. Status code: 403, {\"message\":\"The resource you are looking for is restricted and apparently not within your permissions. Please check your subscription.\",\"errorCode\":403}\n",
      "Failed to fetch matches. Status code: 403, {\"message\":\"The resource you are looking for is restricted and apparently not within your permissions. Please check your subscription.\",\"errorCode\":403}\n",
      "Failed to fetch matches. Status code: 403, {\"message\":\"The resource you are looking for is restricted and apparently not within your permissions. Please check your subscription.\",\"errorCode\":403}\n",
      "Failed to fetch matches. Status code: 403, {\"message\":\"The resource you are looking for is restricted and apparently not within your permissions. Please check your subscription.\",\"errorCode\":403}\n",
      "Failed to fetch matches. Status code: 403, {\"message\":\"The resource you are looking for is restricted and apparently not within your permissions. Please check your subscription.\",\"errorCode\":403}\n",
      "Failed to fetch matches. Status code: 403, {\"message\":\"The resource you are looking for is restricted and apparently not within your permissions. Please check your subscription.\",\"errorCode\":403}\n"
     ]
    }
   ],
   "source": [
    "for start_date, end_date in list(zip(start_dates, end_dates))[3:]:\n",
    "    get_matches(start_date, end_date)"
   ]
  },
  {
   "cell_type": "code",
   "execution_count": null,
   "metadata": {},
   "outputs": [],
   "source": []
  },
  {
   "cell_type": "code",
   "execution_count": 58,
   "metadata": {},
   "outputs": [],
   "source": [
    "def get_match_details_for_season(json_file):\n",
    "    \n",
    "    match_ids = []\n",
    "    \n",
    "    with open(f\"additional_data/{json_file}\", \"r\") as file:\n",
    "        data = json.load(file)\n",
    "\n",
    "    for match in data:\n",
    "        match_ids.append(match[\"id\"])\n",
    "    return match_ids\n",
    "\n",
    "match_ids = get_match_details_for_season(\"2022-08-05_prem_league_matches.json\")"
   ]
  },
  {
   "cell_type": "code",
   "execution_count": null,
   "metadata": {},
   "outputs": [],
   "source": [
    "def get_match_details(match_id, output_file=\"match_details.json\"):\n",
    "    url = f\"{BASE_URL}/matches/{match_id}\"\n",
    "    response = requests.get(url, headers=HEADERS)\n",
    "    \n",
    "    if response.status_code == 200:\n",
    "        match_details = response.json()\n",
    "        \n",
    "        # Check if the file exists\n",
    "        if os.path.exists(output_file):\n",
    "            with open(output_file, 'r') as file:\n",
    "                data = json.load(file)\n",
    "        else:\n",
    "            data = []\n",
    "        data.append(match_details)\n",
    "        \n",
    "        with open(output_file, 'w') as file:\n",
    "            json.dump(data, file, indent=4)\n",
    "        \n",
    "        print(f\"Match details appended to {output_file}\")\n",
    "        return match_details\n",
    "    else:\n",
    "        print(f\"Failed to fetch match details. Status code: {response.status_code}, {response.text}\")\n",
    "        return None"
   ]
  },
  {
   "cell_type": "code",
   "execution_count": 62,
   "metadata": {},
   "outputs": [
    {
     "name": "stdout",
     "output_type": "stream",
     "text": [
      "Failed to fetch match details. Status code: 400\n"
     ]
    }
   ],
   "source": [
    "get_match_details(match_ids[1:])"
   ]
  }
 ],
 "metadata": {
  "kernelspec": {
   "display_name": "venv",
   "language": "python",
   "name": "python3"
  },
  "language_info": {
   "codemirror_mode": {
    "name": "ipython",
    "version": 3
   },
   "file_extension": ".py",
   "mimetype": "text/x-python",
   "name": "python",
   "nbconvert_exporter": "python",
   "pygments_lexer": "ipython3",
   "version": "3.10.7"
  }
 },
 "nbformat": 4,
 "nbformat_minor": 2
}
